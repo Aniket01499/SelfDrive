{
 "cells": [
  {
   "cell_type": "code",
   "execution_count": 2,
   "metadata": {},
   "outputs": [
    {
     "name": "stdout",
     "output_type": "stream",
     "text": [
      "maps:  64   images:  4   in both:  1\n"
     ]
    }
   ],
   "source": [
    "# a little script to reconcile map and camera images\n",
    "import os\n",
    "import pandas as pd\n",
    "import cv2\n",
    "\n",
    "path1 = 'C:/SelfDrive/Map Projection/map_img/'\n",
    "path2 = 'C:/SelfDrive/Map Projection/img/'\n",
    "\n",
    "images = [f.split('.png')[0] for f in os.listdir(path2) if f.endswith(\".png\")]\n",
    "maps = [f.split('.png')[0] for f in os.listdir(path1) if f.endswith(\".png\")]\n",
    "\n",
    "im_df = pd.DataFrame(images)\n",
    "map_df = pd.DataFrame(maps)\n",
    "\n",
    "in_both = pd.merge(left=im_df,right=map_df,on=0)\n",
    "\n",
    "print('maps: ',len(maps), '  images: ',len(images),'  in both: ',len(in_both))"
   ]
  },
  {
   "cell_type": "code",
   "execution_count": 13,
   "metadata": {},
   "outputs": [],
   "source": [
    "# This section finds row index when green tip of the car is located on the map\n",
    "# so it could be used to crop all images to achive consistent location of the map\n",
    "\n",
    "maps = [f for f in os.listdir(path1) if f.endswith(\".png\")]\n",
    "sample_map = cv2.imread(path1+maps[0],cv2.IMREAD_COLOR)\n",
    "# get a section of image with the car's outline\n",
    "slice_map = sample_map\n",
    "#finding green colour in image\n",
    "hsv_img = cv2.cvtColor(slice_map, cv2.COLOR_BGR2HSV)\n",
    "lower_range = (40, 40, 40) # lower range of green\n",
    "upper_range = (70, 255, 255) # upper range of green\n",
    "mask = cv2.inRange(hsv_img, lower_range, upper_range)\n",
    "#color_image = cv2.bitwise_and(slice_map, slice_map, mask=mask)\n",
    "#cv2.imshow('Color Image', color_image)\n",
    "#cv2.waitKey(0)\n",
    "#cv2.destroyAllWindows()\n",
    "\n",
    "region_to_look_y = slice_map.shape[0]-80\n",
    "region_to_look_x1 = int(slice_map.shape[1]/2-10)\n",
    "region_to_look_x2 = int(slice_map.shape[1]/2+10)\n",
    "\n",
    "crop = mask[region_to_look_y:, region_to_look_x1:region_to_look_x2]\n",
    "point_loc = 0\n",
    "for i in range(crop.shape[0]):\n",
    "    if crop[i,].sum() > 0 and point_loc==0:\n",
    "        print(\"Detected point of arow in row \",i)\n",
    "        point_loc = i\n",
    "row_of_arrow = region_to_look_y + point_loc\n",
    "print(\"Index of row in original map of arrow tip is: \",row_of_arrow)"
   ]
  },
  {
   "cell_type": "code",
   "execution_count": null,
   "metadata": {},
   "outputs": [],
   "source": []
  },
  {
   "cell_type": "code",
   "execution_count": null,
   "metadata": {},
   "outputs": [],
   "source": []
  },
  {
   "cell_type": "code",
   "execution_count": null,
   "metadata": {},
   "outputs": [],
   "source": []
  },
  {
   "cell_type": "code",
   "execution_count": null,
   "metadata": {},
   "outputs": [],
   "source": []
  },
  {
   "cell_type": "code",
   "execution_count": null,
   "metadata": {},
   "outputs": [],
   "source": []
  }
 ],
 "metadata": {
  "kernelspec": {
   "display_name": "sb3_13",
   "language": "python",
   "name": "python3"
  },
  "language_info": {
   "codemirror_mode": {
    "name": "ipython",
    "version": 3
   },
   "file_extension": ".py",
   "mimetype": "text/x-python",
   "name": "python",
   "nbconvert_exporter": "python",
   "pygments_lexer": "ipython3",
   "version": "3.7.15"
  },
  "orig_nbformat": 4
 },
 "nbformat": 4,
 "nbformat_minor": 2
}
