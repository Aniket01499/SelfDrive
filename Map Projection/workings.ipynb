{
 "cells": [
  {
   "cell_type": "code",
   "execution_count": 19,
   "metadata": {},
   "outputs": [
    {
     "name": "stdout",
     "output_type": "stream",
     "text": [
      "maps:  5694   images:  666   in both:  666\n"
     ]
    }
   ],
   "source": [
    "# a little script to reconcile map and camera images\n",
    "import os\n",
    "import pandas as pd\n",
    "\n",
    "path1 = 'C:/SelfDrive/Map Projection/map_img/'\n",
    "path2 = 'C:/SelfDrive/Map Projection/img/'\n",
    "\n",
    "images = [f.split('.png')[0] for f in os.listdir(path2) if f.endswith(\".png\")]\n",
    "maps = [f.split('.png')[0] for f in os.listdir(path1) if f.endswith(\".png\")]\n",
    "\n",
    "im_df = pd.DataFrame(images)\n",
    "map_df = pd.DataFrame(maps)\n",
    "\n",
    "in_both = pd.merge(left=im_df,right=map_df,on=0)\n",
    "\n",
    "print('maps: ',len(maps), '  images: ',len(images),'  in both: ',len(in_both))"
   ]
  },
  {
   "cell_type": "code",
   "execution_count": 6,
   "metadata": {},
   "outputs": [],
   "source": []
  },
  {
   "cell_type": "code",
   "execution_count": 13,
   "metadata": {},
   "outputs": [],
   "source": []
  },
  {
   "cell_type": "code",
   "execution_count": 14,
   "metadata": {},
   "outputs": [
    {
     "name": "stdout",
     "output_type": "stream",
     "text": [
      "length maps:  392   length images:  37\n"
     ]
    }
   ],
   "source": [
    "print('length maps: ',len(maps), '  length images: ',len(images))"
   ]
  },
  {
   "cell_type": "code",
   "execution_count": 15,
   "metadata": {},
   "outputs": [],
   "source": []
  },
  {
   "cell_type": "code",
   "execution_count": 16,
   "metadata": {},
   "outputs": [
    {
     "data": {
      "text/plain": [
       "37"
      ]
     },
     "execution_count": 16,
     "metadata": {},
     "output_type": "execute_result"
    }
   ],
   "source": [
    "len(in_both)"
   ]
  },
  {
   "cell_type": "code",
   "execution_count": null,
   "metadata": {},
   "outputs": [],
   "source": []
  }
 ],
 "metadata": {
  "kernelspec": {
   "display_name": "sb3_13",
   "language": "python",
   "name": "python3"
  },
  "language_info": {
   "codemirror_mode": {
    "name": "ipython",
    "version": 3
   },
   "file_extension": ".py",
   "mimetype": "text/x-python",
   "name": "python",
   "nbconvert_exporter": "python",
   "pygments_lexer": "ipython3",
   "version": "3.7.15"
  },
  "orig_nbformat": 4
 },
 "nbformat": 4,
 "nbformat_minor": 2
}
